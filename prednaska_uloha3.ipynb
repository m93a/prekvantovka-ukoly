{
 "cells": [
  {
   "cell_type": "code",
   "execution_count": 1,
   "metadata": {},
   "outputs": [],
   "source": [
    "from __future__ import division\n",
    "import sys\n",
    "sys.path.insert(0, \"~/.local/lib/python3.6/site-packages\")\n",
    "\n",
    "import sympy\n",
    "from sympy import *\n",
    "from sympy.physics.quantum import *\n"
   ]
  },
  {
   "cell_type": "code",
   "execution_count": 21,
   "metadata": {},
   "outputs": [
    {
     "data": {
      "text/latex": [
       "$\\displaystyle \\left[\\begin{matrix}1 & - i \\sin{\\left(t \\right)}\\\\- i \\sin{\\left(t \\right)} & -1\\end{matrix}\\right]$"
      ],
      "text/plain": [
       "Matrix([\n",
       "[        1, -I*sin(t)],\n",
       "[-I*sin(t),        -1]])"
      ]
     },
     "execution_count": 21,
     "metadata": {},
     "output_type": "execute_result"
    }
   ],
   "source": [
    "t = symbols('t', real=true)\n",
    "G = Matrix([[ 1, -I*sin(t) ],[ -I*sin(t), -1 ]])\n",
    "G"
   ]
  },
  {
   "cell_type": "code",
   "execution_count": 22,
   "metadata": {},
   "outputs": [
    {
     "data": {
      "text/latex": [
       "$\\displaystyle \\left[\\begin{matrix}\\frac{i \\sin{\\left(t \\right)}}{\\cos{\\left(t \\right)} + 1}\\\\1\\end{matrix}\\right]$"
      ],
      "text/plain": [
       "Matrix([\n",
       "[I*sin(t)/(cos(t) + 1)],\n",
       "[                    1]])"
      ]
     },
     "execution_count": 22,
     "metadata": {},
     "output_type": "execute_result"
    }
   ],
   "source": [
    "[v1, v2] = [ x[2][0] for x in G.eigenvects() ]\n",
    "v1"
   ]
  },
  {
   "cell_type": "code",
   "execution_count": 23,
   "metadata": {},
   "outputs": [
    {
     "data": {
      "text/latex": [
       "$\\displaystyle \\left[\\begin{matrix}\\frac{i \\sin{\\left(t \\right)}}{1 - \\cos{\\left(t \\right)}}\\\\1\\end{matrix}\\right]$"
      ],
      "text/plain": [
       "Matrix([\n",
       "[I*sin(t)/(1 - cos(t))],\n",
       "[                    1]])"
      ]
     },
     "execution_count": 23,
     "metadata": {},
     "output_type": "execute_result"
    }
   ],
   "source": [
    "v2"
   ]
  },
  {
   "cell_type": "code",
   "execution_count": 24,
   "metadata": {},
   "outputs": [
    {
     "data": {
      "text/latex": [
       "$\\displaystyle \\left[\\begin{matrix}1\\\\\\frac{i \\left(\\cos{\\left(t \\right)} - 1\\right)}{\\sin{\\left(t \\right)}}\\end{matrix}\\right]$"
      ],
      "text/plain": [
       "Matrix([\n",
       "[                    1],\n",
       "[I*(cos(t) - 1)/sin(t)]])"
      ]
     },
     "execution_count": 24,
     "metadata": {},
     "output_type": "execute_result"
    }
   ],
   "source": [
    "w1 = Matrix([[1],[I * (-1+cos(t))/sin(t)]])\n",
    "w1"
   ]
  },
  {
   "cell_type": "code",
   "execution_count": 25,
   "metadata": {},
   "outputs": [
    {
     "data": {
      "text/latex": [
       "$\\displaystyle \\left[\\begin{matrix}1\\\\\\frac{i \\left(- \\cos{\\left(t \\right)} - 1\\right)}{\\sin{\\left(t \\right)}}\\end{matrix}\\right]$"
      ],
      "text/plain": [
       "Matrix([\n",
       "[                     1],\n",
       "[I*(-cos(t) - 1)/sin(t)]])"
      ]
     },
     "execution_count": 25,
     "metadata": {},
     "output_type": "execute_result"
    }
   ],
   "source": [
    "w2 = Matrix([[1],[I*(-1-cos(t))/sin(t)]])\n",
    "w2"
   ]
  },
  {
   "cell_type": "code",
   "execution_count": 28,
   "metadata": {},
   "outputs": [
    {
     "data": {
      "text/latex": [
       "$\\displaystyle \\left[\\begin{matrix}1 & - \\frac{i \\left(\\cos{\\left(t \\right)} - 1\\right)}{\\sin{\\left(t \\right)}}\\\\\\frac{i \\left(\\cos{\\left(t \\right)} - 1\\right)}{\\sin{\\left(t \\right)}} & \\frac{\\left(\\cos{\\left(t \\right)} - 1\\right)^{2}}{\\sin^{2}{\\left(t \\right)}}\\end{matrix}\\right]$"
      ],
      "text/plain": [
       "Matrix([\n",
       "[                    1,    -I*(cos(t) - 1)/sin(t)],\n",
       "[I*(cos(t) - 1)/sin(t), (cos(t) - 1)**2/sin(t)**2]])"
      ]
     },
     "execution_count": 28,
     "metadata": {},
     "output_type": "execute_result"
    }
   ],
   "source": [
    "w1 * w1.H"
   ]
  },
  {
   "cell_type": "code",
   "execution_count": 33,
   "metadata": {},
   "outputs": [
    {
     "data": {
      "text/latex": [
       "$\\displaystyle \\left[\\begin{matrix}- \\frac{1}{\\left|{\\frac{\\cos{\\left(t \\right)} + 1}{\\sin{\\left(t \\right)}}}\\right|^{2} + 1} + \\frac{1}{\\left|{\\frac{\\cos{\\left(t \\right)} - 1}{\\sin{\\left(t \\right)}}}\\right|^{2} + 1} & \\frac{i \\left(- \\cos{\\left(t \\right)} - 1\\right)}{\\left(\\left|{\\frac{\\cos{\\left(t \\right)} + 1}{\\sin{\\left(t \\right)}}}\\right|^{2} + 1\\right) \\sin{\\left(t \\right)}} - \\frac{i \\left(\\cos{\\left(t \\right)} - 1\\right)}{\\left(\\left|{\\frac{\\cos{\\left(t \\right)} - 1}{\\sin{\\left(t \\right)}}}\\right|^{2} + 1\\right) \\sin{\\left(t \\right)}}\\\\- \\frac{i \\left(- \\cos{\\left(t \\right)} - 1\\right)}{\\left(\\left|{\\frac{\\cos{\\left(t \\right)} + 1}{\\sin{\\left(t \\right)}}}\\right|^{2} + 1\\right) \\sin{\\left(t \\right)}} + \\frac{i \\left(\\cos{\\left(t \\right)} - 1\\right)}{\\left(\\left|{\\frac{\\cos{\\left(t \\right)} - 1}{\\sin{\\left(t \\right)}}}\\right|^{2} + 1\\right) \\sin{\\left(t \\right)}} & - \\frac{\\left(- \\cos{\\left(t \\right)} - 1\\right)^{2}}{\\left(\\left|{\\frac{\\cos{\\left(t \\right)} + 1}{\\sin{\\left(t \\right)}}}\\right|^{2} + 1\\right) \\sin^{2}{\\left(t \\right)}} + \\frac{\\left(\\cos{\\left(t \\right)} - 1\\right)^{2}}{\\left(\\left|{\\frac{\\cos{\\left(t \\right)} - 1}{\\sin{\\left(t \\right)}}}\\right|^{2} + 1\\right) \\sin^{2}{\\left(t \\right)}}\\end{matrix}\\right]$"
      ],
      "text/plain": [
       "Matrix([\n",
       "[                                             -1/(Abs((cos(t) + 1)/sin(t))**2 + 1) + 1/(Abs((cos(t) - 1)/sin(t))**2 + 1),          I*(-cos(t) - 1)/((Abs((cos(t) + 1)/sin(t))**2 + 1)*sin(t)) - I*(cos(t) - 1)/((Abs((cos(t) - 1)/sin(t))**2 + 1)*sin(t))],\n",
       "[-I*(-cos(t) - 1)/((Abs((cos(t) + 1)/sin(t))**2 + 1)*sin(t)) + I*(cos(t) - 1)/((Abs((cos(t) - 1)/sin(t))**2 + 1)*sin(t)), -(-cos(t) - 1)**2/((Abs((cos(t) + 1)/sin(t))**2 + 1)*sin(t)**2) + (cos(t) - 1)**2/((Abs((cos(t) - 1)/sin(t))**2 + 1)*sin(t)**2)]])"
      ]
     },
     "execution_count": 33,
     "metadata": {},
     "output_type": "execute_result"
    }
   ],
   "source": [
    "P_ = w1.normalized() * w1.normalized().H - w2.normalized() * w2.normalized().H\n",
    "P_"
   ]
  },
  {
   "cell_type": "code",
   "execution_count": 34,
   "metadata": {},
   "outputs": [],
   "source": [
    "P_.simplify()"
   ]
  },
  {
   "cell_type": "code",
   "execution_count": 35,
   "metadata": {},
   "outputs": [
    {
     "data": {
      "text/latex": [
       "$\\displaystyle \\left[\\begin{matrix}\\frac{\\left(\\left(\\frac{1}{\\tan{\\left(t \\right)}} + \\frac{1}{\\sin{\\left(t \\right)}}\\right)^{2} - \\left|{\\frac{\\cos{\\left(t \\right)} - 1}{\\sin{\\left(t \\right)}}}\\right|^{2}\\right) \\sin^{2}{\\left(t \\right)}}{2 \\left(\\cos{\\left(t \\right)} + 1\\right) \\left(\\left|{\\frac{\\cos{\\left(t \\right)} - 1}{\\sin{\\left(t \\right)}}}\\right|^{2} + 1\\right)} & \\frac{i \\left(- \\left(\\cos{\\left(t \\right)} + 1\\right) \\left(\\left|{\\frac{\\cos{\\left(t \\right)} - 1}{\\sin{\\left(t \\right)}}}\\right|^{2} + 1\\right) + 2\\right) \\sin{\\left(t \\right)}}{2 \\left(\\cos{\\left(t \\right)} + 1\\right) \\left(\\left|{\\frac{\\cos{\\left(t \\right)} - 1}{\\sin{\\left(t \\right)}}}\\right|^{2} + 1\\right)}\\\\\\frac{i \\left(\\left(\\cos{\\left(t \\right)} + 1\\right) \\left(\\left|{\\frac{\\cos{\\left(t \\right)} - 1}{\\sin{\\left(t \\right)}}}\\right|^{2} + 1\\right) - 2\\right) \\sin{\\left(t \\right)}}{2 \\left(\\cos{\\left(t \\right)} + 1\\right) \\left(\\left|{\\frac{\\cos{\\left(t \\right)} - 1}{\\sin{\\left(t \\right)}}}\\right|^{2} + 1\\right)} & - \\frac{2 \\cos{\\left(t \\right)}}{\\left(\\cos{\\left(t \\right)} + 1\\right) \\left(\\left|{\\frac{\\cos{\\left(t \\right)} - 1}{\\sin{\\left(t \\right)}}}\\right|^{2} + 1\\right)}\\end{matrix}\\right]$"
      ],
      "text/plain": [
       "Matrix([\n",
       "[((1/tan(t) + 1/sin(t))**2 - Abs((cos(t) - 1)/sin(t))**2)*sin(t)**2/(2*(cos(t) + 1)*(Abs((cos(t) - 1)/sin(t))**2 + 1)), I*(-(cos(t) + 1)*(Abs((cos(t) - 1)/sin(t))**2 + 1) + 2)*sin(t)/(2*(cos(t) + 1)*(Abs((cos(t) - 1)/sin(t))**2 + 1))],\n",
       "[     I*((cos(t) + 1)*(Abs((cos(t) - 1)/sin(t))**2 + 1) - 2)*sin(t)/(2*(cos(t) + 1)*(Abs((cos(t) - 1)/sin(t))**2 + 1)),                                                        -2*cos(t)/((cos(t) + 1)*(Abs((cos(t) - 1)/sin(t))**2 + 1))]])"
      ]
     },
     "execution_count": 35,
     "metadata": {},
     "output_type": "execute_result"
    }
   ],
   "source": [
    "P_"
   ]
  },
  {
   "cell_type": "code",
   "execution_count": null,
   "metadata": {},
   "outputs": [],
   "source": []
  }
 ],
 "metadata": {
  "kernelspec": {
   "display_name": "Python 3.6.9 64-bit",
   "language": "python",
   "name": "python36964bit0c8c7c5934c14359b9baf18c9a99cdbe"
  },
  "language_info": {
   "codemirror_mode": {
    "name": "ipython",
    "version": 3
   },
   "file_extension": ".py",
   "mimetype": "text/x-python",
   "name": "python",
   "nbconvert_exporter": "python",
   "pygments_lexer": "ipython3",
   "version": "3.6.9"
  }
 },
 "nbformat": 4,
 "nbformat_minor": 2
}
