{
 "cells": [
  {
   "cell_type": "code",
   "execution_count": 2,
   "metadata": {},
   "outputs": [],
   "source": [
    "from __future__ import division\n",
    "import sys\n",
    "sys.path.insert(0, \"~/.local/lib/python3.6/site-packages\")\n",
    "\n",
    "import sympy\n",
    "from sympy import *\n",
    "from sympy.physics.quantum import *\n"
   ]
  },
  {
   "cell_type": "code",
   "execution_count": 3,
   "metadata": {},
   "outputs": [
    {
     "data": {
      "text/latex": [
       "$\\displaystyle \\left[\\begin{matrix}1 & - i \\sin{\\left(t \\right)}\\\\- i \\sin{\\left(t \\right)} & -1\\end{matrix}\\right]$"
      ],
      "text/plain": [
       "Matrix([\n",
       "[        1, -I*sin(t)],\n",
       "[-I*sin(t),        -1]])"
      ]
     },
     "execution_count": 3,
     "metadata": {},
     "output_type": "execute_result"
    }
   ],
   "source": [
    "t = symbols('t', real=true)\n",
    "G = Matrix([[ 1, -I*sin(t) ],[ -I*sin(t), -1 ]])\n",
    "G"
   ]
  },
  {
   "cell_type": "code",
   "execution_count": 4,
   "metadata": {},
   "outputs": [
    {
     "data": {
      "text/latex": [
       "$\\displaystyle \\left[\\begin{matrix}\\frac{i \\sin{\\left(t \\right)}}{\\cos{\\left(t \\right)} + 1}\\\\1\\end{matrix}\\right]$"
      ],
      "text/plain": [
       "Matrix([\n",
       "[I*sin(t)/(cos(t) + 1)],\n",
       "[                    1]])"
      ]
     },
     "execution_count": 4,
     "metadata": {},
     "output_type": "execute_result"
    }
   ],
   "source": [
    "[v1, v2] = [ x[2][0] for x in G.eigenvects() ]\n",
    "v1"
   ]
  },
  {
   "cell_type": "code",
   "execution_count": 5,
   "metadata": {},
   "outputs": [
    {
     "data": {
      "text/latex": [
       "$\\displaystyle \\left[\\begin{matrix}\\frac{i \\sin{\\left(t \\right)}}{1 - \\cos{\\left(t \\right)}}\\\\1\\end{matrix}\\right]$"
      ],
      "text/plain": [
       "Matrix([\n",
       "[I*sin(t)/(1 - cos(t))],\n",
       "[                    1]])"
      ]
     },
     "execution_count": 5,
     "metadata": {},
     "output_type": "execute_result"
    }
   ],
   "source": [
    "v2"
   ]
  },
  {
   "cell_type": "code",
   "execution_count": 6,
   "metadata": {},
   "outputs": [
    {
     "data": {
      "text/latex": [
       "$\\displaystyle \\left[\\begin{matrix}1\\\\\\frac{i \\left(\\cos{\\left(t \\right)} - 1\\right)}{\\sin{\\left(t \\right)}}\\end{matrix}\\right]$"
      ],
      "text/plain": [
       "Matrix([\n",
       "[                    1],\n",
       "[I*(cos(t) - 1)/sin(t)]])"
      ]
     },
     "execution_count": 6,
     "metadata": {},
     "output_type": "execute_result"
    }
   ],
   "source": [
    "w1 = Matrix([[1],[I * (-1+cos(t))/sin(t)]])\n",
    "w1"
   ]
  },
  {
   "cell_type": "code",
   "execution_count": 7,
   "metadata": {},
   "outputs": [
    {
     "data": {
      "text/latex": [
       "$\\displaystyle \\left[\\begin{matrix}1\\\\\\frac{i \\left(- \\cos{\\left(t \\right)} - 1\\right)}{\\sin{\\left(t \\right)}}\\end{matrix}\\right]$"
      ],
      "text/plain": [
       "Matrix([\n",
       "[                     1],\n",
       "[I*(-cos(t) - 1)/sin(t)]])"
      ]
     },
     "execution_count": 7,
     "metadata": {},
     "output_type": "execute_result"
    }
   ],
   "source": [
    "w2 = Matrix([[1],[I*(-1-cos(t))/sin(t)]])\n",
    "w2"
   ]
  },
  {
   "cell_type": "code",
   "execution_count": 8,
   "metadata": {},
   "outputs": [
    {
     "data": {
      "text/latex": [
       "$\\displaystyle \\left[\\begin{matrix}1 & - \\frac{i \\left(\\cos{\\left(t \\right)} - 1\\right)}{\\sin{\\left(t \\right)}}\\\\\\frac{i \\left(\\cos{\\left(t \\right)} - 1\\right)}{\\sin{\\left(t \\right)}} & \\frac{\\left(\\cos{\\left(t \\right)} - 1\\right)^{2}}{\\sin^{2}{\\left(t \\right)}}\\end{matrix}\\right]$"
      ],
      "text/plain": [
       "Matrix([\n",
       "[                    1,    -I*(cos(t) - 1)/sin(t)],\n",
       "[I*(cos(t) - 1)/sin(t), (cos(t) - 1)**2/sin(t)**2]])"
      ]
     },
     "execution_count": 8,
     "metadata": {},
     "output_type": "execute_result"
    }
   ],
   "source": [
    "w1 * w1.H"
   ]
  },
  {
   "cell_type": "code",
   "execution_count": 9,
   "metadata": {},
   "outputs": [
    {
     "data": {
      "text/latex": [
       "$\\displaystyle \\left[\\begin{matrix}- \\frac{1}{\\left|{\\frac{\\cos{\\left(t \\right)} + 1}{\\sin{\\left(t \\right)}}}\\right|^{2} + 1} + \\frac{1}{\\left|{\\frac{\\cos{\\left(t \\right)} - 1}{\\sin{\\left(t \\right)}}}\\right|^{2} + 1} & \\frac{i \\left(- \\cos{\\left(t \\right)} - 1\\right)}{\\left(\\left|{\\frac{\\cos{\\left(t \\right)} + 1}{\\sin{\\left(t \\right)}}}\\right|^{2} + 1\\right) \\sin{\\left(t \\right)}} - \\frac{i \\left(\\cos{\\left(t \\right)} - 1\\right)}{\\left(\\left|{\\frac{\\cos{\\left(t \\right)} - 1}{\\sin{\\left(t \\right)}}}\\right|^{2} + 1\\right) \\sin{\\left(t \\right)}}\\\\- \\frac{i \\left(- \\cos{\\left(t \\right)} - 1\\right)}{\\left(\\left|{\\frac{\\cos{\\left(t \\right)} + 1}{\\sin{\\left(t \\right)}}}\\right|^{2} + 1\\right) \\sin{\\left(t \\right)}} + \\frac{i \\left(\\cos{\\left(t \\right)} - 1\\right)}{\\left(\\left|{\\frac{\\cos{\\left(t \\right)} - 1}{\\sin{\\left(t \\right)}}}\\right|^{2} + 1\\right) \\sin{\\left(t \\right)}} & - \\frac{\\left(- \\cos{\\left(t \\right)} - 1\\right)^{2}}{\\left(\\left|{\\frac{\\cos{\\left(t \\right)} + 1}{\\sin{\\left(t \\right)}}}\\right|^{2} + 1\\right) \\sin^{2}{\\left(t \\right)}} + \\frac{\\left(\\cos{\\left(t \\right)} - 1\\right)^{2}}{\\left(\\left|{\\frac{\\cos{\\left(t \\right)} - 1}{\\sin{\\left(t \\right)}}}\\right|^{2} + 1\\right) \\sin^{2}{\\left(t \\right)}}\\end{matrix}\\right]$"
      ],
      "text/plain": [
       "Matrix([\n",
       "[                                             -1/(Abs((cos(t) + 1)/sin(t))**2 + 1) + 1/(Abs((cos(t) - 1)/sin(t))**2 + 1),          I*(-cos(t) - 1)/((Abs((cos(t) + 1)/sin(t))**2 + 1)*sin(t)) - I*(cos(t) - 1)/((Abs((cos(t) - 1)/sin(t))**2 + 1)*sin(t))],\n",
       "[-I*(-cos(t) - 1)/((Abs((cos(t) + 1)/sin(t))**2 + 1)*sin(t)) + I*(cos(t) - 1)/((Abs((cos(t) - 1)/sin(t))**2 + 1)*sin(t)), -(-cos(t) - 1)**2/((Abs((cos(t) + 1)/sin(t))**2 + 1)*sin(t)**2) + (cos(t) - 1)**2/((Abs((cos(t) - 1)/sin(t))**2 + 1)*sin(t)**2)]])"
      ]
     },
     "execution_count": 9,
     "metadata": {},
     "output_type": "execute_result"
    }
   ],
   "source": [
    "P_ = w1.normalized() * w1.normalized().H - w2.normalized() * w2.normalized().H\n",
    "P_"
   ]
  },
  {
   "cell_type": "code",
   "execution_count": 10,
   "metadata": {},
   "outputs": [],
   "source": [
    "P_.simplify()"
   ]
  },
  {
   "cell_type": "code",
   "execution_count": 11,
   "metadata": {},
   "outputs": [
    {
     "data": {
      "text/latex": [
       "$\\displaystyle \\left[\\begin{matrix}\\frac{\\left(\\left(\\frac{1}{\\tan{\\left(t \\right)}} + \\frac{1}{\\sin{\\left(t \\right)}}\\right)^{2} - \\left|{\\frac{\\cos{\\left(t \\right)} - 1}{\\sin{\\left(t \\right)}}}\\right|^{2}\\right) \\sin^{2}{\\left(t \\right)}}{2 \\left(\\cos{\\left(t \\right)} + 1\\right) \\left(\\left|{\\frac{\\cos{\\left(t \\right)} - 1}{\\sin{\\left(t \\right)}}}\\right|^{2} + 1\\right)} & \\frac{i \\left(- \\left(\\cos{\\left(t \\right)} + 1\\right) \\left(\\left|{\\frac{\\cos{\\left(t \\right)} - 1}{\\sin{\\left(t \\right)}}}\\right|^{2} + 1\\right) + 2\\right) \\sin{\\left(t \\right)}}{2 \\left(\\cos{\\left(t \\right)} + 1\\right) \\left(\\left|{\\frac{\\cos{\\left(t \\right)} - 1}{\\sin{\\left(t \\right)}}}\\right|^{2} + 1\\right)}\\\\\\frac{i \\left(\\left(\\cos{\\left(t \\right)} + 1\\right) \\left(\\left|{\\frac{\\cos{\\left(t \\right)} - 1}{\\sin{\\left(t \\right)}}}\\right|^{2} + 1\\right) - 2\\right) \\sin{\\left(t \\right)}}{2 \\left(\\cos{\\left(t \\right)} + 1\\right) \\left(\\left|{\\frac{\\cos{\\left(t \\right)} - 1}{\\sin{\\left(t \\right)}}}\\right|^{2} + 1\\right)} & - \\frac{2 \\cos{\\left(t \\right)}}{\\left(\\cos{\\left(t \\right)} + 1\\right) \\left(\\left|{\\frac{\\cos{\\left(t \\right)} - 1}{\\sin{\\left(t \\right)}}}\\right|^{2} + 1\\right)}\\end{matrix}\\right]$"
      ],
      "text/plain": [
       "Matrix([\n",
       "[((1/tan(t) + 1/sin(t))**2 - Abs((cos(t) - 1)/sin(t))**2)*sin(t)**2/(2*(cos(t) + 1)*(Abs((cos(t) - 1)/sin(t))**2 + 1)), I*(-(cos(t) + 1)*(Abs((cos(t) - 1)/sin(t))**2 + 1) + 2)*sin(t)/(2*(cos(t) + 1)*(Abs((cos(t) - 1)/sin(t))**2 + 1))],\n",
       "[     I*((cos(t) + 1)*(Abs((cos(t) - 1)/sin(t))**2 + 1) - 2)*sin(t)/(2*(cos(t) + 1)*(Abs((cos(t) - 1)/sin(t))**2 + 1)),                                                        -2*cos(t)/((cos(t) + 1)*(Abs((cos(t) - 1)/sin(t))**2 + 1))]])"
      ]
     },
     "execution_count": 11,
     "metadata": {},
     "output_type": "execute_result"
    }
   ],
   "source": [
    "P_"
   ]
  },
  {
   "cell_type": "code",
   "execution_count": 14,
   "metadata": {},
   "outputs": [
    {
     "data": {
      "text/latex": [
       "$\\displaystyle \\left[\\begin{matrix}\\cos{\\left(t \\right)} & \\frac{\\sqrt{2} e^{- i \\varphi} \\sin{\\left(t \\right)}}{2} & 0\\\\\\frac{\\sqrt{2} e^{i \\varphi} \\sin{\\left(t \\right)}}{2} & 0 & \\frac{\\sqrt{2} e^{- i \\varphi} \\sin{\\left(t \\right)}}{2}\\\\0 & \\frac{\\sqrt{2} e^{i \\varphi} \\sin{\\left(t \\right)}}{2} & - \\cos{\\left(t \\right)}\\end{matrix}\\right]$"
      ],
      "text/plain": [
       "Matrix([\n",
       "[                        cos(t), sqrt(2)*exp(-I*varphi)*sin(t)/2,                               0],\n",
       "[sqrt(2)*exp(I*varphi)*sin(t)/2,                               0, sqrt(2)*exp(-I*varphi)*sin(t)/2],\n",
       "[                             0,  sqrt(2)*exp(I*varphi)*sin(t)/2,                         -cos(t)]])"
      ]
     },
     "execution_count": 14,
     "metadata": {},
     "output_type": "execute_result"
    }
   ],
   "source": [
    "f = symbols('varphi', real=True)\n",
    "S = Matrix([\n",
    "    [cos(t), sin(t)*exp(-I*f)/sqrt(2),0],\n",
    "    [sin(t)*exp(+I*f)/sqrt(2), 0, sin(t)*exp(-I*f)/sqrt(2)],\n",
    "    [0, sin(t)*exp(+I*f)/sqrt(2), -cos(t)]\n",
    "])\n",
    "S"
   ]
  },
  {
   "cell_type": "code",
   "execution_count": 28,
   "metadata": {},
   "outputs": [
    {
     "data": {
      "text/latex": [
       "$\\displaystyle \\left[\\begin{matrix}- e^{- 2 i \\varphi}\\\\\\frac{\\sqrt{2} e^{- i \\varphi} \\cos{\\left(t \\right)}}{\\sin{\\left(t \\right)}}\\\\1\\end{matrix}\\right]$"
      ],
      "text/plain": [
       "Matrix([\n",
       "[                   -exp(-2*I*varphi)],\n",
       "[sqrt(2)*exp(-I*varphi)*cos(t)/sin(t)],\n",
       "[                                   1]])"
      ]
     },
     "execution_count": 28,
     "metadata": {},
     "output_type": "execute_result"
    }
   ],
   "source": [
    "sol = S.gauss_jordan_solve(Matrix([[0],[0],[0]]))\n",
    "sol[0]/sol[1][0]"
   ]
  },
  {
   "cell_type": "code",
   "execution_count": 48,
   "metadata": {},
   "outputs": [
    {
     "data": {
      "text/latex": [
       "$\\displaystyle \\left[\\begin{matrix}0 & 1 & 0\\\\1 & 0 & 1\\\\0 & 1 & 0\\end{matrix}\\right]$"
      ],
      "text/plain": [
       "Matrix([\n",
       "[0, 1, 0],\n",
       "[1, 0, 1],\n",
       "[0, 1, 0]])"
      ]
     },
     "execution_count": 48,
     "metadata": {},
     "output_type": "execute_result"
    }
   ],
   "source": [
    "Sx = Matrix([[0,1,0],[1,0,1],[0,1,0]])\n",
    "Sx"
   ]
  },
  {
   "cell_type": "code",
   "execution_count": 51,
   "metadata": {},
   "outputs": [
    {
     "data": {
      "text/latex": [
       "$\\displaystyle \\left[\\begin{matrix}1\\\\\\sqrt{2}\\\\1\\end{matrix}\\right]$"
      ],
      "text/plain": [
       "Matrix([\n",
       "[      1],\n",
       "[sqrt(2)],\n",
       "[      1]])"
      ]
     },
     "execution_count": 51,
     "metadata": {},
     "output_type": "execute_result"
    }
   ],
   "source": [
    "xplus = Sx.eigenvects()[2][2][0]\n",
    "xplus"
   ]
  },
  {
   "cell_type": "code",
   "execution_count": 52,
   "metadata": {},
   "outputs": [
    {
     "data": {
      "text/latex": [
       "$\\displaystyle \\left[\\begin{matrix}1\\\\- \\sqrt{2}\\\\1\\end{matrix}\\right]$"
      ],
      "text/plain": [
       "Matrix([\n",
       "[       1],\n",
       "[-sqrt(2)],\n",
       "[       1]])"
      ]
     },
     "execution_count": 52,
     "metadata": {},
     "output_type": "execute_result"
    }
   ],
   "source": [
    "xminus = Sx.eigenvects()[1][2][0]\n",
    "xminus"
   ]
  },
  {
   "cell_type": "code",
   "execution_count": 53,
   "metadata": {},
   "outputs": [
    {
     "data": {
      "text/latex": [
       "$\\displaystyle \\left[\\begin{matrix}1 & \\sqrt{2} & 1\\\\\\sqrt{2} & 2 & \\sqrt{2}\\\\1 & \\sqrt{2} & 1\\end{matrix}\\right]$"
      ],
      "text/plain": [
       "Matrix([\n",
       "[      1, sqrt(2),       1],\n",
       "[sqrt(2),       2, sqrt(2)],\n",
       "[      1, sqrt(2),       1]])"
      ]
     },
     "execution_count": 53,
     "metadata": {},
     "output_type": "execute_result"
    }
   ],
   "source": [
    "xplus * xplus.T"
   ]
  },
  {
   "cell_type": "code",
   "execution_count": 54,
   "metadata": {},
   "outputs": [
    {
     "data": {
      "text/latex": [
       "$\\displaystyle \\left[\\begin{matrix}1 & - \\sqrt{2} & 1\\\\- \\sqrt{2} & 2 & - \\sqrt{2}\\\\1 & - \\sqrt{2} & 1\\end{matrix}\\right]$"
      ],
      "text/plain": [
       "Matrix([\n",
       "[       1, -sqrt(2),        1],\n",
       "[-sqrt(2),        2, -sqrt(2)],\n",
       "[       1, -sqrt(2),        1]])"
      ]
     },
     "execution_count": 54,
     "metadata": {},
     "output_type": "execute_result"
    }
   ],
   "source": [
    "xminus * xminus.T"
   ]
  },
  {
   "cell_type": "code",
   "execution_count": 56,
   "metadata": {},
   "outputs": [
    {
     "data": {
      "text/latex": [
       "$\\displaystyle \\left[\\begin{matrix}\\frac{1}{2} & 0 & \\frac{1}{2}\\\\0 & 1 & 0\\\\\\frac{1}{2} & 0 & \\frac{1}{2}\\end{matrix}\\right]$"
      ],
      "text/plain": [
       "Matrix([\n",
       "[1/2, 0, 1/2],\n",
       "[  0, 1,   0],\n",
       "[1/2, 0, 1/2]])"
      ]
     },
     "execution_count": 56,
     "metadata": {},
     "output_type": "execute_result"
    }
   ],
   "source": [
    "P = (xplus * xplus.T + xminus * xminus.T)/4\n",
    "P"
   ]
  },
  {
   "cell_type": "code",
   "execution_count": 57,
   "metadata": {},
   "outputs": [
    {
     "data": {
      "text/latex": [
       "$\\displaystyle \\left[\\begin{matrix}\\frac{1}{2} & 0 & \\frac{1}{2}\\\\0 & 1 & 0\\\\\\frac{1}{2} & 0 & \\frac{1}{2}\\end{matrix}\\right]$"
      ],
      "text/plain": [
       "Matrix([\n",
       "[1/2, 0, 1/2],\n",
       "[  0, 1,   0],\n",
       "[1/2, 0, 1/2]])"
      ]
     },
     "execution_count": 57,
     "metadata": {},
     "output_type": "execute_result"
    }
   ],
   "source": [
    "P*P"
   ]
  },
  {
   "cell_type": "code",
   "execution_count": 71,
   "metadata": {},
   "outputs": [
    {
     "data": {
      "text/latex": [
       "$\\displaystyle \\left[\\begin{matrix}- \\frac{A}{4} + B & \\frac{A}{2} + B\\\\\\frac{A}{2} + B & - \\frac{A}{4} + B\\end{matrix}\\right]$"
      ],
      "text/plain": [
       "Matrix([\n",
       "[-A/4 + B,  A/2 + B],\n",
       "[ A/2 + B, -A/4 + B]])"
      ]
     },
     "execution_count": 71,
     "metadata": {},
     "output_type": "execute_result"
    }
   ],
   "source": [
    "A,B,K = symbols('A B K', real=True)\n",
    "Hee = Matrix([[-A/4 + B, A/2 + B],[A/2 + B, -A/4 + B]])\n",
    "Hee"
   ]
  },
  {
   "cell_type": "code",
   "execution_count": 72,
   "metadata": {},
   "outputs": [
    {
     "data": {
      "text/plain": [
       "{-3*A/4: 1, A/4 + 2*B: 1}"
      ]
     },
     "execution_count": 72,
     "metadata": {},
     "output_type": "execute_result"
    }
   ],
   "source": [
    "Hee.eigenvals()"
   ]
  },
  {
   "cell_type": "code",
   "execution_count": 73,
   "metadata": {},
   "outputs": [
    {
     "data": {
      "text/plain": [
       "[-A/4 - B*K/4 - sqrt(9*A**2 - 2*A*B*K + B**2*K**2)/4,\n",
       " -A/4 - B*K/4 + sqrt(9*A**2 - 2*A*B*K + B**2*K**2)/4]"
      ]
     },
     "execution_count": 73,
     "metadata": {},
     "output_type": "execute_result"
    }
   ],
   "source": [
    "[simplify(a) for a in (Matrix([[-K*B, sqrt(2)*A], [sqrt(2)*A, -A]])/2).eigenvals()]"
   ]
  },
  {
   "cell_type": "code",
   "execution_count": 74,
   "metadata": {},
   "outputs": [
    {
     "data": {
      "text/plain": [
       "[-A/4 + B*K/4 - sqrt(9*A**2 + 2*A*B*K + B**2*K**2)/4,\n",
       " -A/4 + B*K/4 + sqrt(9*A**2 + 2*A*B*K + B**2*K**2)/4]"
      ]
     },
     "execution_count": 74,
     "metadata": {},
     "output_type": "execute_result"
    }
   ],
   "source": [
    "[simplify(a) for a in (Matrix([[+K*B, sqrt(2)*A], [sqrt(2)*A, -A]])/2).eigenvals()]"
   ]
  },
  {
   "cell_type": "code",
   "execution_count": null,
   "metadata": {},
   "outputs": [],
   "source": []
  }
 ],
 "metadata": {
  "kernelspec": {
   "display_name": "Python 3.6.9 64-bit",
   "language": "python",
   "name": "python36964bit0c8c7c5934c14359b9baf18c9a99cdbe"
  },
  "language_info": {
   "codemirror_mode": {
    "name": "ipython",
    "version": 3
   },
   "file_extension": ".py",
   "mimetype": "text/x-python",
   "name": "python",
   "nbconvert_exporter": "python",
   "pygments_lexer": "ipython3",
   "version": "3.6.9"
  }
 },
 "nbformat": 4,
 "nbformat_minor": 2
}
