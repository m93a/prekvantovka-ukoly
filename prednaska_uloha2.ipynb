{
 "cells": [
  {
   "cell_type": "code",
   "execution_count": 48,
   "metadata": {},
   "outputs": [],
   "source": [
    "from __future__ import division\n",
    "import sys\n",
    "sys.path.insert(0, \"~/.local/lib/python3.6/site-packages\")\n",
    "\n",
    "import sympy\n",
    "from sympy import *\n",
    "from sympy.physics.quantum import *\n"
   ]
  },
  {
   "cell_type": "code",
   "execution_count": 49,
   "metadata": {},
   "outputs": [
    {
     "data": {
      "text/latex": [
       "$\\displaystyle - i \\frac{d}{d t} f{\\left(t \\right)} = - \\frac{K \\left(B_{0} f{\\left(t \\right)} + B_{1} g{\\left(t \\right)} e^{- i \\omega t}\\right)}{2}$"
      ],
      "text/plain": [
       "Eq(-I*Derivative(f(t), t), -K*(B_0*f(t) + B_1*g(t)*exp(-I*omega*t))/2)"
      ]
     },
     "execution_count": 49,
     "metadata": {},
     "output_type": "execute_result"
    }
   ],
   "source": [
    "_ = Wild('*')\n",
    "t = Symbol('t')\n",
    "\n",
    "f = Function('f')(t)\n",
    "g = Function('g')(t)\n",
    "\n",
    "df = f.diff()\n",
    "ddf = df.diff()\n",
    "dg = g.diff()\n",
    "ddg = dg.diff()\n",
    "\n",
    "K, B0, B1, w = symbols('K B_0 B_1 omega')\n",
    "\n",
    "e1 = Eq(-I * df, -(K/2) * ( B0 * f + B1 * exp(-I*w*t) * g))\n",
    "e1"
   ]
  },
  {
   "cell_type": "code",
   "execution_count": 50,
   "metadata": {},
   "outputs": [
    {
     "data": {
      "text/latex": [
       "$\\displaystyle \\frac{\\left(- B_{0} K f{\\left(t \\right)} + 2 i \\frac{d}{d t} f{\\left(t \\right)}\\right) e^{i \\omega t}}{B_{1} K}$"
      ],
      "text/plain": [
       "(-B_0*K*f(t) + 2*I*Derivative(f(t), t))*exp(I*omega*t)/(B_1*K)"
      ]
     },
     "execution_count": 50,
     "metadata": {},
     "output_type": "execute_result"
    }
   ],
   "source": [
    "g_ = solve(e1, g)[0]\n",
    "g_"
   ]
  },
  {
   "cell_type": "code",
   "execution_count": 51,
   "metadata": {},
   "outputs": [
    {
     "data": {
      "text/latex": [
       "$\\displaystyle - i \\frac{d}{d t} g{\\left(t \\right)} = \\frac{K \\left(B_{0} g{\\left(t \\right)} - B_{1} f{\\left(t \\right)} e^{i \\omega t}\\right)}{2}$"
      ],
      "text/plain": [
       "Eq(-I*Derivative(g(t), t), K*(B_0*g(t) - B_1*f(t)*exp(I*omega*t))/2)"
      ]
     },
     "execution_count": 51,
     "metadata": {},
     "output_type": "execute_result"
    }
   ],
   "source": [
    "e2 = Eq(-I * dg, (K/2) * ( B0 * g - B1 * exp(I*w*t) * f))\n",
    "e2"
   ]
  },
  {
   "cell_type": "code",
   "execution_count": 52,
   "metadata": {},
   "outputs": [
    {
     "data": {
      "text/latex": [
       "$\\displaystyle \\frac{B_{0}^{2} K f{\\left(t \\right)} e^{i \\omega t}}{2 B_{1}} - \\frac{B_{0} \\omega f{\\left(t \\right)} e^{i \\omega t}}{B_{1}} + \\frac{B_{1} K f{\\left(t \\right)} e^{i \\omega t}}{2} + \\frac{2 i \\omega e^{i \\omega t} \\frac{d}{d t} f{\\left(t \\right)}}{B_{1} K} + \\frac{2 e^{i \\omega t} \\frac{d^{2}}{d t^{2}} f{\\left(t \\right)}}{B_{1} K} = 0$"
      ],
      "text/plain": [
       "Eq(B_0**2*K*f(t)*exp(I*omega*t)/(2*B_1) - B_0*omega*f(t)*exp(I*omega*t)/B_1 + B_1*K*f(t)*exp(I*omega*t)/2 + 2*I*omega*exp(I*omega*t)*Derivative(f(t), t)/(B_1*K) + 2*exp(I*omega*t)*Derivative(f(t), (t, 2))/(B_1*K), 0)"
      ]
     },
     "execution_count": 52,
     "metadata": {},
     "output_type": "execute_result"
    }
   ],
   "source": [
    "e2_ = Eq(e2.lhs - e2.rhs, 0).subs(g, g_).doit().expand()\n",
    "e2_"
   ]
  },
  {
   "cell_type": "code",
   "execution_count": 53,
   "metadata": {},
   "outputs": [
    {
     "data": {
      "text/latex": [
       "$\\displaystyle \\frac{B_{0}^{2} K e^{i \\omega t}}{2 B_{1}} - \\frac{B_{0} \\omega e^{i \\omega t}}{B_{1}} + \\frac{B_{1} K e^{i \\omega t}}{2} + \\frac{2 \\lambda^{2} e^{i \\omega t}}{B_{1} K} + \\frac{2 i \\lambda \\omega e^{i \\omega t}}{B_{1} K} = 0$"
      ],
      "text/plain": [
       "Eq(B_0**2*K*exp(I*omega*t)/(2*B_1) - B_0*omega*exp(I*omega*t)/B_1 + B_1*K*exp(I*omega*t)/2 + 2*lambda**2*exp(I*omega*t)/(B_1*K) + 2*I*lambda*omega*exp(I*omega*t)/(B_1*K), 0)"
      ]
     },
     "execution_count": 53,
     "metadata": {},
     "output_type": "execute_result"
    }
   ],
   "source": [
    "l = symbols('lambda')\n",
    "e3 = e2_.subs(ddf, l**2).subs(df, l).subs(f, 1)\n",
    "e3"
   ]
  },
  {
   "cell_type": "code",
   "execution_count": 54,
   "metadata": {},
   "outputs": [
    {
     "data": {
      "text/latex": [
       "$\\displaystyle \\frac{B_{0}^{2} K^{2}}{4} - \\frac{B_{0} K \\omega}{2} + \\frac{B_{1}^{2} K^{2}}{4} + \\lambda^{2} + i \\lambda \\omega = 0$"
      ],
      "text/plain": [
       "Eq(B_0**2*K**2/4 - B_0*K*omega/2 + B_1**2*K**2/4 + lambda**2 + I*lambda*omega, 0)"
      ]
     },
     "execution_count": 54,
     "metadata": {},
     "output_type": "execute_result"
    }
   ],
   "source": [
    "e3disp = Eq( (e3.lhs * B1*K*exp(-I*w*t) / 2).expand(), 0)\n",
    "e3disp"
   ]
  },
  {
   "cell_type": "code",
   "execution_count": 55,
   "metadata": {},
   "outputs": [
    {
     "data": {
      "text/latex": [
       "$\\displaystyle - \\frac{i \\omega}{2} - \\frac{\\sqrt{- B_{0}^{2} K^{2} + 2 B_{0} K \\omega - \\omega^{2}}}{2}$"
      ],
      "text/plain": [
       "-I*omega/2 - sqrt(-B_0**2*K**2 + 2*B_0*K*omega - omega**2)/2"
      ]
     },
     "execution_count": 55,
     "metadata": {},
     "output_type": "execute_result"
    }
   ],
   "source": [
    "(l1_, l2_) = (l_.expand().subs(B1, 0) for l_ in solve(e3, l))\n",
    "l1_"
   ]
  },
  {
   "cell_type": "code",
   "execution_count": 56,
   "metadata": {},
   "outputs": [
    {
     "data": {
      "text/latex": [
       "$\\displaystyle - \\frac{i \\omega}{2} + \\frac{\\sqrt{- B_{0}^{2} K^{2} + 2 B_{0} K \\omega - \\omega^{2}}}{2}$"
      ],
      "text/plain": [
       "-I*omega/2 + sqrt(-B_0**2*K**2 + 2*B_0*K*omega - omega**2)/2"
      ]
     },
     "execution_count": 56,
     "metadata": {},
     "output_type": "execute_result"
    }
   ],
   "source": [
    "l2_"
   ]
  },
  {
   "cell_type": "code",
   "execution_count": 59,
   "metadata": {},
   "outputs": [
    {
     "data": {
      "text/latex": [
       "$\\displaystyle \\frac{i B_{0} K}{2} - \\sqrt{- B_{0}^{2} K^{2}}$"
      ],
      "text/plain": [
       "I*B_0*K/2 - sqrt(-B_0**2*K**2)"
      ]
     },
     "execution_count": 59,
     "metadata": {},
     "output_type": "execute_result"
    }
   ],
   "source": [
    "l1__ = l1_.subs(w, -B0*K)\n",
    "l1__"
   ]
  },
  {
   "cell_type": "code",
   "execution_count": 60,
   "metadata": {},
   "outputs": [
    {
     "data": {
      "text/latex": [
       "$\\displaystyle \\frac{i B_{0} K}{2} + \\sqrt{- B_{0}^{2} K^{2}}$"
      ],
      "text/plain": [
       "I*B_0*K/2 + sqrt(-B_0**2*K**2)"
      ]
     },
     "execution_count": 60,
     "metadata": {},
     "output_type": "execute_result"
    }
   ],
   "source": [
    "l2__ = l2_.subs(B1, 0).subs(w, -B0*K)\n",
    "l2__"
   ]
  },
  {
   "cell_type": "code",
   "execution_count": 64,
   "metadata": {},
   "outputs": [
    {
     "data": {
      "text/latex": [
       "$\\displaystyle \\frac{i B_{0} K}{2} + i \\sqrt{B_{0}^{2} K^{2}}$"
      ],
      "text/plain": [
       "I*B_0*K/2 + I*sqrt(B_0**2*K**2)"
      ]
     },
     "execution_count": 64,
     "metadata": {},
     "output_type": "execute_result"
    }
   ],
   "source": [
    "\n",
    "l2__.replace(sqrt(-_), I*sqrt(_))"
   ]
  },
  {
   "cell_type": "code",
   "execution_count": 71,
   "metadata": {},
   "outputs": [
    {
     "data": {
      "text/latex": [
       "$\\displaystyle \\left(D_{1} \\cos{\\left(\\frac{t \\left(B_{0} K - \\omega\\right)}{2} \\right)} + D_{2} \\sin{\\left(\\frac{t \\left(B_{0} K - \\omega\\right)}{2} \\right)}\\right) e^{- \\frac{i \\omega t}{2}}$"
      ],
      "text/plain": [
       "(D_1*cos(t*(B_0*K - omega)/2) + D_2*sin(t*(B_0*K - omega)/2))*exp(-I*omega*t/2)"
      ]
     },
     "execution_count": 71,
     "metadata": {},
     "output_type": "execute_result"
    }
   ],
   "source": [
    "D1, D2, D3, D4 = symbols('D_1 D_2 D_3 D_4')\n",
    "\n",
    "cplus = exp(-I*w*t/2) * (D1*cos( (B0*K - w)*t/2 ) + D2*sin( (B0*K - w)*t/2 ))\n",
    "cplus"
   ]
  },
  {
   "cell_type": "code",
   "execution_count": 75,
   "metadata": {},
   "outputs": [
    {
     "data": {
      "text/latex": [
       "$\\displaystyle \\left(- \\frac{i B_{0} D_{1} \\sin{\\left(\\frac{B_{0} K t}{2} - \\frac{\\omega t}{2} \\right)}}{B_{1}} - \\frac{B_{0} D_{1} \\cos{\\left(\\frac{B_{0} K t}{2} - \\frac{\\omega t}{2} \\right)}}{B_{1}} - \\frac{B_{0} D_{2} \\sin{\\left(\\frac{B_{0} K t}{2} - \\frac{\\omega t}{2} \\right)}}{B_{1}} + \\frac{i B_{0} D_{2} \\cos{\\left(\\frac{B_{0} K t}{2} - \\frac{\\omega t}{2} \\right)}}{B_{1}} + \\frac{i D_{1} \\omega \\sin{\\left(\\frac{B_{0} K t}{2} - \\frac{\\omega t}{2} \\right)}}{B_{1} K} + \\frac{D_{1} \\omega \\cos{\\left(\\frac{B_{0} K t}{2} - \\frac{\\omega t}{2} \\right)}}{B_{1} K} + \\frac{D_{2} \\omega \\sin{\\left(\\frac{B_{0} K t}{2} - \\frac{\\omega t}{2} \\right)}}{B_{1} K} - \\frac{i D_{2} \\omega \\cos{\\left(\\frac{B_{0} K t}{2} - \\frac{\\omega t}{2} \\right)}}{B_{1} K}\\right) e^{\\frac{i \\omega t}{2}}$"
      ],
      "text/plain": [
       "(-I*B_0*D_1*sin(B_0*K*t/2 - omega*t/2)/B_1 - B_0*D_1*cos(B_0*K*t/2 - omega*t/2)/B_1 - B_0*D_2*sin(B_0*K*t/2 - omega*t/2)/B_1 + I*B_0*D_2*cos(B_0*K*t/2 - omega*t/2)/B_1 + I*D_1*omega*sin(B_0*K*t/2 - omega*t/2)/(B_1*K) + D_1*omega*cos(B_0*K*t/2 - omega*t/2)/(B_1*K) + D_2*omega*sin(B_0*K*t/2 - omega*t/2)/(B_1*K) - I*D_2*omega*cos(B_0*K*t/2 - omega*t/2)/(B_1*K))*exp(I*omega*t/2)"
      ]
     },
     "execution_count": 75,
     "metadata": {},
     "output_type": "execute_result"
    }
   ],
   "source": [
    "cminus = g_.subs(f, cplus).doit().expand()\n",
    "cminus = exp(I*w*t/2) * (cminus/exp(I*w*t/2)).expand()\n",
    "cminus"
   ]
  },
  {
   "cell_type": "code",
   "execution_count": null,
   "metadata": {},
   "outputs": [],
   "source": []
  },
  {
   "cell_type": "code",
   "execution_count": null,
   "metadata": {},
   "outputs": [],
   "source": []
  }
 ],
 "metadata": {
  "kernelspec": {
   "display_name": "Python 3.6.9 64-bit",
   "language": "python",
   "name": "python36964bit0c8c7c5934c14359b9baf18c9a99cdbe"
  },
  "language_info": {
   "codemirror_mode": {
    "name": "ipython",
    "version": 3
   },
   "file_extension": ".py",
   "mimetype": "text/x-python",
   "name": "python",
   "nbconvert_exporter": "python",
   "pygments_lexer": "ipython3",
   "version": "3.6.9"
  }
 },
 "nbformat": 4,
 "nbformat_minor": 2
}
