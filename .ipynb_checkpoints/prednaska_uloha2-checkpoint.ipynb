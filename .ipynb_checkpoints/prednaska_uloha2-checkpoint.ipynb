{
 "cells": [
  {
   "cell_type": "code",
   "execution_count": 1,
   "metadata": {},
   "outputs": [],
   "source": [
    "from __future__ import division\n",
    "import sys\n",
    "sys.path.insert(0, \"~/.local/lib/python3.6/site-packages\")\n",
    "\n",
    "import sympy\n",
    "from sympy import *\n",
    "from sympy.physics.quantum import *\n"
   ]
  },
  {
   "cell_type": "code",
   "execution_count": 38,
   "metadata": {},
   "outputs": [
    {
     "data": {
      "text/latex": [
       "$\\displaystyle - i \\frac{d}{d t} f{\\left(t \\right)} = - \\frac{K \\left(B_{0} f{\\left(t \\right)} + B_{1} g{\\left(t \\right)} e^{- i \\omega t}\\right)}{2}$"
      ],
      "text/plain": [
       "Eq(-I*Derivative(f(t), t), -K*(B_0*f(t) + B_1*g(t)*exp(-I*omega*t))/2)"
      ]
     },
     "execution_count": 38,
     "metadata": {},
     "output_type": "execute_result"
    }
   ],
   "source": [
    "t = Symbol('t')\n",
    "f = Function('f')(t)\n",
    "g = Function('g')(t)\n",
    "\n",
    "df = f.diff()\n",
    "ddf = df.diff()\n",
    "dg = g.diff()\n",
    "ddg = dg.diff()\n",
    "\n",
    "K, B0, B1, w = symbols('K B_0 B_1 omega')\n",
    "\n",
    "e1 = Eq(-I * df, -(K/2) * ( B0 * f + B1 * exp(-I*w*t) * g))\n",
    "e1"
   ]
  },
  {
   "cell_type": "code",
   "execution_count": 39,
   "metadata": {},
   "outputs": [
    {
     "data": {
      "text/latex": [
       "$\\displaystyle \\frac{\\left(- B_{0} K f{\\left(t \\right)} + 2 i \\frac{d}{d t} f{\\left(t \\right)}\\right) e^{i \\omega t}}{B_{1} K}$"
      ],
      "text/plain": [
       "(-B_0*K*f(t) + 2*I*Derivative(f(t), t))*exp(I*omega*t)/(B_1*K)"
      ]
     },
     "execution_count": 39,
     "metadata": {},
     "output_type": "execute_result"
    }
   ],
   "source": [
    "g_ = solve(e1, g)[0]\n",
    "g_"
   ]
  },
  {
   "cell_type": "code",
   "execution_count": null,
   "metadata": {},
   "outputs": [],
   "source": []
  },
  {
   "cell_type": "code",
   "execution_count": null,
   "metadata": {},
   "outputs": [],
   "source": []
  }
 ],
 "metadata": {
  "kernelspec": {
   "display_name": "Python 3.6.9 64-bit",
   "language": "python",
   "name": "python36964bit0c8c7c5934c14359b9baf18c9a99cdbe"
  },
  "language_info": {
   "codemirror_mode": {
    "name": "ipython",
    "version": 3
   },
   "file_extension": ".py",
   "mimetype": "text/x-python",
   "name": "python",
   "nbconvert_exporter": "python",
   "pygments_lexer": "ipython3",
   "version": "3.6.9"
  }
 },
 "nbformat": 4,
 "nbformat_minor": 2
}
